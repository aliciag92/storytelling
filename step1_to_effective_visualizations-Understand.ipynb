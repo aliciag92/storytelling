{
 "cells": [
  {
   "cell_type": "markdown",
   "metadata": {},
   "source": [
    "# Recognize a Good Chart\n",
    "1. Effective\n",
    "2. Helps people see the truth, doesn't deceive.\n",
    "    - Common deception techniques: truncation of y-axis, double y-axis, incorrect use of maps\n",
    "3. Tells your story\n"
   ]
  },
  {
   "cell_type": "markdown",
   "metadata": {},
   "source": [
    "# Systematically critique charts\n",
    "1. Note the first few things you see\n",
    "2. What is the first idea that forms in your mind? Note it and then search for more.\n",
    "3. What is the idea being conveyed?\n",
    "4. Does it match the chart's seeming intent?\n",
    "5. Is there anything misleading in the chart?\n",
    "6. Is something missing?\n",
    "7. Note likes, dislikes, wish-I-saws\n",
    "8. Find 3 things you would change...note them and explain why\n",
    "9. Sketch and/or protoype your own version and critically evaluate yours."
   ]
  },
  {
   "cell_type": "markdown",
   "metadata": {},
   "source": [
    "# How We Process Visually\n",
    "1. Don't assume your audience will read right to left, top to bottom. → We don't go in order.\n",
    "\n",
    "2. Make what you want the audience to see first stand out! → We see first what stands out.\n",
    "\n",
    "3. Reduce the number of things on the chart → we only see a few things at once.\n",
    "\n",
    "4. Gray out the context that needs to remain but not be seen at the same importance as the key idea → we only see a few things at once.\n",
    "\n",
    "5. Reduce the number of colors → we only see a few things at once.\n",
    "\n",
    "6. Ensure the meaning is not misrepresented → We seek meaning and make connections. If the meaning is not clearly understood, we will make our own.\n",
    "\n",
    "7. Use conventions and metaphors → Our brains use experience and expectations as cognitive shortcuts so we don't have to consciously process everytime we see something.\n",
    "\n",
    "    - Red:Green ⇒ Negative:Postive\n",
    "    - Red:Blue ⇒ Hot/Active:Cold/Inactive\n",
    "    - Hierarchies: Top ⇒ Bottom\n",
    "    - Time: Left ⇒ Right\n",
    "    - Y-axes: starts at 0\n",
    "    - Up:Down ⇒ North:South, Good:Bad\n",
    "    - Lighter:Darker ⇒ Emptier:Fuller, Lower:Higher\n",
    "    - Like Colors ⇒ Like Items\n",
    "    - Connected data points ⇒ relationship from one value to the next, like time, but not categories\n",
    "    - Categories arranged from Most Extreme ⇒ Least Extreme\n",
    "    - Color Gradient/Saturation ⇒ Progression of Values\n",
    "    - Distinct Colors ⇒ Distinct Categories\n",
    "8. Limit numbers ⇒ Our eyes are actually really good at math. Most people process values more intuitively via visual representation than numbers or statistics."
   ]
  }
 ],
 "metadata": {
  "kernelspec": {
   "display_name": "Python 3",
   "language": "python",
   "name": "python3"
  },
  "language_info": {
   "codemirror_mode": {
    "name": "ipython",
    "version": 3
   },
   "file_extension": ".py",
   "mimetype": "text/x-python",
   "name": "python",
   "nbconvert_exporter": "python",
   "pygments_lexer": "ipython3",
   "version": "3.8.5"
  }
 },
 "nbformat": 4,
 "nbformat_minor": 4
}
